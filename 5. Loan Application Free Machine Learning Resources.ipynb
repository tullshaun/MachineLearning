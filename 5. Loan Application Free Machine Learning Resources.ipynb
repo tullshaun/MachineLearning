{
 "cells": [
  {
   "cell_type": "markdown",
   "metadata": {},
   "source": [
    "\n",
    "\n",
    "\n",
    "# MACHINE LEARNING AN END TO END SOLUTION: Section 5 -Free Resources!!!\n",
    "\n",
    "Presented by Shaun\n",
    "\n",
    "\n",
    "### Let's get started!\n",
    "\n",
    "\n",
    "**Free Machine Learning Courses below:**\n",
    "\n",
    "1. **Stanford University:** *Free Machine Learning Course:*  __[Stanford Machine Learning ](https://www.coursera.org/learn/machine-learning)__\n",
    "\n",
    "2. **Microsoft Professional Program for Data Science:**   __[Microsoft Data Science](https://academy.microsoft.com/en-us/professional-program/tracks/data-science/)__\n",
    "\n",
    "3. **Google:** *Intro to Deep Learning:* __[Google Machine Learning](https://www.class-central.com/course/udacity-intro-to-deep-learning-5681)__\n",
    "\n",
    "4. **Columbia University:** *Machine Learning:* __[Columbia University – Machine Learning](https://www.class-central.com/course/edx-machine-learning-7231)__\n",
    "\n",
    "**Free Python based Data Science and Machine Learning courses:**\n",
    "1. **edX:**  *Founded by Harvard University and MIT in 2012. Take free online Python courses from universities and institutions like MIT, Microsoft and Georgia Tech. Python is one of the top programming languages for web development and is also used by data scientists in a wide range of applications. Learn Python programming and advance your career:*  __[edX](https://www.edx.org/learn/python)__\n",
    "\n",
    "\n",
    "**Free Math Courses: Great for Machine Learning!**\n",
    "\n",
    "1. Linear Algebra: __[Linear Algebra](https://ocw.mit.edu/courses/mathematics/18-06-linear-algebra-spring-2010/)__\n",
    "\n",
    "2. Calculus: __[Calculus](https://www.youtube.com/playlist?list=PLZHQObOWTQDMsr9K-rj53DwVRMYO3t5Yr)__\n",
    "\n",
    "3. Introduction to Probability - The Science of Uncertainty: __[Probability](https://www.edx.org/course/introduction-probability-science-mitx-6-041x-2)__\n",
    "\n",
    "4. Algorithms: __[Algorithms](https://www.coursera.org/courses?languages=en&query=Algorithm%20design%20and%20analysis)__\n",
    "\n",
    "**Great Free Machine Learning and data analysis tools below:**\n",
    "1. **Anaconda:** *The Most Popular Python Data Science Platform:*  __[Anaconda](https://www.anaconda.com/download/)__\n",
    "\n",
    "2. **Tensorflow:** *An open source machine learning framework for everyone:* __[Tensorflow](https://www.tensorflow.org/)__\n",
    "\n",
    "3. **Weka:** *is a collection of machine learning algorithms for data mining tasks. It contains tools for data preparation, classification, regression, clustering, association rules mining, and visualization:* __[Weka](https://www.cs.waikato.ac.nz/ml/weka/)__\n",
    "\n",
    "4. **MS Power BI:** *Go from data to insights in minutes.Any data, any way, anywhere. And all in one view:* __[MS Power BI](https://powerbi.microsoft.com/en-us/)__\n",
    "\n",
    "\n",
    "**Datasets for Machine Learning!**\n",
    "\n",
    "1. **Kaggle:** *is the world's largest community of data scientists and machine learnerswhere they host 1000's of Datasets to practice your skills:* __[Kaggle](https://www.kaggle.com/datasets)__<br>\n",
    "2. **The UCI Machine Learning Repository:** *is a collection of databases, domain theories, and data generators that are used by the machine learning community for the empirical analysis of machine learning algorithms.:*  __[UC Irvine Machine Learning Repository](http://archive.ics.uci.edu/ml/index.php)__<br>\n"
   ]
  },
  {
   "cell_type": "code",
   "execution_count": null,
   "metadata": {},
   "outputs": [],
   "source": []
  }
 ],
 "metadata": {
  "kernelspec": {
   "display_name": "Python 3",
   "language": "python",
   "name": "python3"
  },
  "language_info": {
   "codemirror_mode": {
    "name": "ipython",
    "version": 3
   },
   "file_extension": ".py",
   "mimetype": "text/x-python",
   "name": "python",
   "nbconvert_exporter": "python",
   "pygments_lexer": "ipython3",
   "version": "3.7.0"
  }
 },
 "nbformat": 4,
 "nbformat_minor": 2
}
