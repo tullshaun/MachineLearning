{
 "cells": [
  {
   "cell_type": "markdown",
   "metadata": {},
   "source": [
    "# MACHINE LEARNING AN END TO END SOLUTION:  Section 2\n",
    "## Loan Application\n",
    "\n",
    "Presented by Shaun\n",
    "\n",
    "Throughout the financial sector, machine learning algorithms are being developed to approve loan applications. In this project,we will process a dataset and use techniques to construct three machine learning models to predict on loan approvals. A dataset with 1102 observations will be examined, cleaned and organised; a data exploration will identify the features and their data types and the most important features, which are the best predictors for loan approvals. \n",
    "\n",
    "\n",
    "### Hyperparameter Tuning\n",
    "\n",
    "This section will discuss tuning the machine learning models to improve their accuracy scores and performance; the hyperparameters, are those parameters of the models that can be tuned. It is generally recognised that a crucial step in machine learning is hyperparameter tuning. Typically, hyperparameters are tuned by ‘what has worked before’, in this project we will use the grid search cross validation method. The grid search cross validation method is included with Scikit-learn, which offers an ‘exhaustive search over specified parameter values for an estimator’ \n",
    "\n"
   ]
  },
  {
   "cell_type": "code",
   "execution_count": 97,
   "metadata": {
    "collapsed": true
   },
   "outputs": [],
   "source": [
    "import numpy as np\n",
    "import pandas as pd\n",
    "\n",
    "\n",
    "##import classifiers\n",
    "from sklearn.naive_bayes import GaussianNB\n",
    "from sklearn.neural_network import MLPClassifier\n",
    "from sklearn.neighbors import KNeighborsClassifier\n",
    "\n",
    "##import train test split\n",
    "from sklearn.model_selection import train_test_split\n",
    "\n",
    "##import scoring metrics\n",
    "from sklearn.metrics import accuracy_score,confusion_matrix, precision_score, recall_score, f1_score,roc_curve, auc\n",
    "from sklearn import model_selection\n",
    "from sklearn.model_selection import cross_val_score  \n",
    "\n",
    "##import Visualisations\n",
    "import matplotlib.pyplot as plt\n",
    "import seaborn as sns\n",
    "plt.style.use('ggplot')\n",
    "%matplotlib inline"
   ]
  },
  {
   "cell_type": "code",
   "execution_count": 98,
   "metadata": {
    "collapsed": true
   },
   "outputs": [],
   "source": [
    "predata = pd.read_csv('c:\\\\ml\\\\LoanPredOrig.csv')\n",
    "predata = predata.dropna()\n",
    "#Categorical data clean up, this will error if you try to run this twice consecutively, without reloading the dataset\n",
    "predata['Loan_Status'] = predata.Loan_Status.astype(int)\n",
    "predata['Employed'] = np.where(predata['Employed'].str.contains('YES'), 1, 0)\n",
    "predata['Marital_Status'] = np.where(predata['Marital_Status'].str.contains('YES'), 1, 0)\n",
    "predata['Graduate'] = np.where(predata['Graduate'].str.contains('YES'), 1, 0)\n",
    "predata['Credit_History'] = np.where(predata['Credit_History'].str.contains('YES'), 1, 0)\n",
    "predata['PropertyOwner'] = np.where(predata['PropertyOwner'].str.contains('YES'), 1, 0)\n",
    "df = pd.DataFrame(predata)\n",
    "\n",
    "#Drop the Loanid column\n",
    "del df['Loanid']\n",
    "\n",
    "#One hot encding on the Gender column\n",
    "data = pd.get_dummies(df,columns=['Gender'])"
   ]
  },
  {
   "cell_type": "code",
   "execution_count": 99,
   "metadata": {},
   "outputs": [
    {
     "name": "stdout",
     "output_type": "stream",
     "text": [
      "<class 'pandas.core.frame.DataFrame'>\n",
      "Int64Index: 1100 entries, 0 to 1100\n",
      "Data columns (total 13 columns):\n",
      "Marital_Status       1100 non-null int32\n",
      "Dependents           1100 non-null int64\n",
      "Graduate             1100 non-null int32\n",
      "Employed             1100 non-null int32\n",
      "ApplicantIncome      1100 non-null float64\n",
      "CoapplicantIncome    1100 non-null float64\n",
      "LoanAmount           1100 non-null int64\n",
      "Loan_Amount_Term     1100 non-null int64\n",
      "Credit_History       1100 non-null int32\n",
      "PropertyOwner        1100 non-null int32\n",
      "Loan_Status          1100 non-null int32\n",
      "Gender_Female        1100 non-null uint8\n",
      "Gender_Male          1100 non-null uint8\n",
      "dtypes: float64(2), int32(6), int64(3), uint8(2)\n",
      "memory usage: 79.5 KB\n",
      "None\n"
     ]
    }
   ],
   "source": [
    "#print(data.describe())  # examine the distribution of data including, count, mean, std=standard deviation, can only do numerical data\n",
    "print(data.info())  "
   ]
  },
  {
   "cell_type": "markdown",
   "metadata": {},
   "source": [
    "### Assigning the Dataset\n",
    "\n",
    "Previously we split the data into a training dataset and a test dataset. \n",
    "The statement below loads the entire dataset data to X_train and the labels y to y_train."
   ]
  },
  {
   "cell_type": "code",
   "execution_count": 100,
   "metadata": {
    "collapsed": true
   },
   "outputs": [],
   "source": [
    "X_train, y_train = (data.loc[:, data.columns != 'Loan_Status'], data['Loan_Status'])\n"
   ]
  },
  {
   "cell_type": "code",
   "execution_count": 101,
   "metadata": {},
   "outputs": [
    {
     "name": "stdout",
     "output_type": "stream",
     "text": [
      "Shape of the X_train dataset:  (1100, 12)\n",
      "Shape of the y_train dataset:  (1100,)\n",
      "----------------------------------------------\n",
      "Training Dataset, counts of y label '1': 743\n",
      "Training Dataset, counts of y label '0': 357\n"
     ]
    }
   ],
   "source": [
    "print(\"Shape of the X_train dataset: \", X_train.shape)\n",
    "print(\"Shape of the y_train dataset: \", y_train.shape)\n",
    "print('----------------------------------------------')\n",
    "print(\"Training Dataset, counts of y label '1': {}\".format(sum(y_train==1)))\n",
    "print(\"Training Dataset, counts of y label '0': {}\".format(sum(y_train==0)))"
   ]
  },
  {
   "cell_type": "markdown",
   "metadata": {},
   "source": [
    "## KNN Hyperparameter Tuning \n",
    "\n",
    "*We will start by looking at the optimal parameter value k for the KNN model.In our previous KNN model run, k had run with its default value of 5. To identify its optimal value, we will import the grid search cross validation **GridSearchCV** and the  **StratifiedKFold** Cross-Validation; this will sort all the data and divide this into k folds, the folds are made by ensuring the percentage of samples for each class are evenly distributed.  A general recommendation is to set k to 5 or 10, we will set it to 10.*"
   ]
  },
  {
   "cell_type": "code",
   "execution_count": 102,
   "metadata": {
    "collapsed": true
   },
   "outputs": [],
   "source": [
    "from sklearn.model_selection import GridSearchCV\n",
    "from sklearn.model_selection import StratifiedKFold"
   ]
  },
  {
   "cell_type": "markdown",
   "metadata": {},
   "source": [
    "### KNeighborsClassifier() value of k\n",
    "\n",
    "We will set the range of k values from 1-31 and the model will evaluate each value of k against the full dataset which will be divided into 10 folds (9 training 1 for evaluation), with an even distribution of the class in each fold. "
   ]
  },
  {
   "cell_type": "code",
   "execution_count": 117,
   "metadata": {},
   "outputs": [
    {
     "name": "stdout",
     "output_type": "stream",
     "text": [
      "[1, 2, 3, 4, 5, 6, 7, 8, 9, 10, 11, 12, 13, 14, 15, 16, 17, 18, 19, 20, 21, 22, 23, 24, 25, 26, 27, 28, 29, 30]\n"
     ]
    }
   ],
   "source": [
    "knn = KNeighborsClassifier()\n",
    "k = list(range(1, 31))\n",
    "print(k)"
   ]
  },
  {
   "cell_type": "markdown",
   "metadata": {},
   "source": [
    "### GridSearchCV parameters\n",
    "\n",
    "**The GridSearchCV parameters:**\n",
    "1. *estimator : estimator object.*\n",
    "2. *param_grid : dict or list of dictionaries  Dictionary with parameters names (string) as keys and lists of parameter settings to try as values, or a list of such dictionaries.*\n",
    "3. *cv : int, cross-validation generator.Determines the cross-validation splitting strategy. This is using the kfold=StratifiedKFold(n_splits=10)*\n",
    "4. *scoring we are scoring on accuray.*\n",
    "5. *return_train_score : boolean, optional,  If False, the cv_results_ attribute will not include training scores.computing the scores on the training set can be computationally expensive and is not strictly required to select the parameters that yield the best generalization performance.*\n",
    "6. *n_jobs : int (default=None) Number of jobs to run in parallel. None means 1 unless in a joblib.parallel_backend context. -1 means using all processors.*\n",
    "\n",
    "More details here:  __[GridSearchCV](http://scikit-learn.org/stable/modules/generated/sklearn.model_selection.GridSearchCV.html)__"
   ]
  },
  {
   "cell_type": "code",
   "execution_count": 118,
   "metadata": {},
   "outputs": [
    {
     "name": "stdout",
     "output_type": "stream",
     "text": [
      "{'n_neighbors': [1, 2, 3, 4, 5, 6, 7, 8, 9, 10, 11, 12, 13, 14, 15, 16, 17, 18, 19, 20, 21, 22, 23, 24, 25, 26, 27, 28, 29, 30]}\n"
     ]
    }
   ],
   "source": [
    "param_grid = dict(n_neighbors=k)\n",
    "print(param_grid)\n",
    "kfold =StratifiedKFold(n_splits=10)\n",
    "grid = GridSearchCV(knn, param_grid, cv=kfold, scoring='accuracy', return_train_score=False,n_jobs=-1)"
   ]
  },
  {
   "cell_type": "markdown",
   "metadata": {},
   "source": [
    "### Train the model using GridSearchCV\n",
    "*Train the model and print out the mean_test_score, std_test_score and params results of the GridSearchCV using the pandas dataframe*"
   ]
  },
  {
   "cell_type": "code",
   "execution_count": 119,
   "metadata": {},
   "outputs": [
    {
     "data": {
      "text/html": [
       "<div>\n",
       "<style>\n",
       "    .dataframe thead tr:only-child th {\n",
       "        text-align: right;\n",
       "    }\n",
       "\n",
       "    .dataframe thead th {\n",
       "        text-align: left;\n",
       "    }\n",
       "\n",
       "    .dataframe tbody tr th {\n",
       "        vertical-align: top;\n",
       "    }\n",
       "</style>\n",
       "<table border=\"1\" class=\"dataframe\">\n",
       "  <thead>\n",
       "    <tr style=\"text-align: right;\">\n",
       "      <th></th>\n",
       "      <th>mean_test_score</th>\n",
       "      <th>std_test_score</th>\n",
       "      <th>params</th>\n",
       "    </tr>\n",
       "  </thead>\n",
       "  <tbody>\n",
       "    <tr>\n",
       "      <th>0</th>\n",
       "      <td>0.700000</td>\n",
       "      <td>0.081821</td>\n",
       "      <td>{'n_neighbors': 1}</td>\n",
       "    </tr>\n",
       "    <tr>\n",
       "      <th>1</th>\n",
       "      <td>0.637273</td>\n",
       "      <td>0.053168</td>\n",
       "      <td>{'n_neighbors': 2}</td>\n",
       "    </tr>\n",
       "    <tr>\n",
       "      <th>2</th>\n",
       "      <td>0.762727</td>\n",
       "      <td>0.099097</td>\n",
       "      <td>{'n_neighbors': 3}</td>\n",
       "    </tr>\n",
       "    <tr>\n",
       "      <th>3</th>\n",
       "      <td>0.725455</td>\n",
       "      <td>0.080155</td>\n",
       "      <td>{'n_neighbors': 4}</td>\n",
       "    </tr>\n",
       "    <tr>\n",
       "      <th>4</th>\n",
       "      <td>0.781818</td>\n",
       "      <td>0.096688</td>\n",
       "      <td>{'n_neighbors': 5}</td>\n",
       "    </tr>\n",
       "    <tr>\n",
       "      <th>5</th>\n",
       "      <td>0.760000</td>\n",
       "      <td>0.086564</td>\n",
       "      <td>{'n_neighbors': 6}</td>\n",
       "    </tr>\n",
       "    <tr>\n",
       "      <th>6</th>\n",
       "      <td>0.772727</td>\n",
       "      <td>0.103055</td>\n",
       "      <td>{'n_neighbors': 7}</td>\n",
       "    </tr>\n",
       "    <tr>\n",
       "      <th>7</th>\n",
       "      <td>0.760909</td>\n",
       "      <td>0.093935</td>\n",
       "      <td>{'n_neighbors': 8}</td>\n",
       "    </tr>\n",
       "    <tr>\n",
       "      <th>8</th>\n",
       "      <td>0.775455</td>\n",
       "      <td>0.108862</td>\n",
       "      <td>{'n_neighbors': 9}</td>\n",
       "    </tr>\n",
       "    <tr>\n",
       "      <th>9</th>\n",
       "      <td>0.761818</td>\n",
       "      <td>0.095381</td>\n",
       "      <td>{'n_neighbors': 10}</td>\n",
       "    </tr>\n",
       "    <tr>\n",
       "      <th>10</th>\n",
       "      <td>0.770909</td>\n",
       "      <td>0.107981</td>\n",
       "      <td>{'n_neighbors': 11}</td>\n",
       "    </tr>\n",
       "    <tr>\n",
       "      <th>11</th>\n",
       "      <td>0.766364</td>\n",
       "      <td>0.100636</td>\n",
       "      <td>{'n_neighbors': 12}</td>\n",
       "    </tr>\n",
       "    <tr>\n",
       "      <th>12</th>\n",
       "      <td>0.766364</td>\n",
       "      <td>0.106496</td>\n",
       "      <td>{'n_neighbors': 13}</td>\n",
       "    </tr>\n",
       "    <tr>\n",
       "      <th>13</th>\n",
       "      <td>0.759091</td>\n",
       "      <td>0.101163</td>\n",
       "      <td>{'n_neighbors': 14}</td>\n",
       "    </tr>\n",
       "    <tr>\n",
       "      <th>14</th>\n",
       "      <td>0.763636</td>\n",
       "      <td>0.106556</td>\n",
       "      <td>{'n_neighbors': 15}</td>\n",
       "    </tr>\n",
       "    <tr>\n",
       "      <th>15</th>\n",
       "      <td>0.757273</td>\n",
       "      <td>0.101468</td>\n",
       "      <td>{'n_neighbors': 16}</td>\n",
       "    </tr>\n",
       "    <tr>\n",
       "      <th>16</th>\n",
       "      <td>0.755455</td>\n",
       "      <td>0.102190</td>\n",
       "      <td>{'n_neighbors': 17}</td>\n",
       "    </tr>\n",
       "    <tr>\n",
       "      <th>17</th>\n",
       "      <td>0.750909</td>\n",
       "      <td>0.093774</td>\n",
       "      <td>{'n_neighbors': 18}</td>\n",
       "    </tr>\n",
       "    <tr>\n",
       "      <th>18</th>\n",
       "      <td>0.749091</td>\n",
       "      <td>0.092958</td>\n",
       "      <td>{'n_neighbors': 19}</td>\n",
       "    </tr>\n",
       "    <tr>\n",
       "      <th>19</th>\n",
       "      <td>0.748182</td>\n",
       "      <td>0.081508</td>\n",
       "      <td>{'n_neighbors': 20}</td>\n",
       "    </tr>\n",
       "    <tr>\n",
       "      <th>20</th>\n",
       "      <td>0.746364</td>\n",
       "      <td>0.084413</td>\n",
       "      <td>{'n_neighbors': 21}</td>\n",
       "    </tr>\n",
       "    <tr>\n",
       "      <th>21</th>\n",
       "      <td>0.744545</td>\n",
       "      <td>0.088097</td>\n",
       "      <td>{'n_neighbors': 22}</td>\n",
       "    </tr>\n",
       "    <tr>\n",
       "      <th>22</th>\n",
       "      <td>0.745455</td>\n",
       "      <td>0.087779</td>\n",
       "      <td>{'n_neighbors': 23}</td>\n",
       "    </tr>\n",
       "    <tr>\n",
       "      <th>23</th>\n",
       "      <td>0.745455</td>\n",
       "      <td>0.078469</td>\n",
       "      <td>{'n_neighbors': 24}</td>\n",
       "    </tr>\n",
       "    <tr>\n",
       "      <th>24</th>\n",
       "      <td>0.738182</td>\n",
       "      <td>0.087695</td>\n",
       "      <td>{'n_neighbors': 25}</td>\n",
       "    </tr>\n",
       "    <tr>\n",
       "      <th>25</th>\n",
       "      <td>0.736364</td>\n",
       "      <td>0.086802</td>\n",
       "      <td>{'n_neighbors': 26}</td>\n",
       "    </tr>\n",
       "    <tr>\n",
       "      <th>26</th>\n",
       "      <td>0.729091</td>\n",
       "      <td>0.084165</td>\n",
       "      <td>{'n_neighbors': 27}</td>\n",
       "    </tr>\n",
       "    <tr>\n",
       "      <th>27</th>\n",
       "      <td>0.734545</td>\n",
       "      <td>0.090375</td>\n",
       "      <td>{'n_neighbors': 28}</td>\n",
       "    </tr>\n",
       "    <tr>\n",
       "      <th>28</th>\n",
       "      <td>0.730909</td>\n",
       "      <td>0.086828</td>\n",
       "      <td>{'n_neighbors': 29}</td>\n",
       "    </tr>\n",
       "    <tr>\n",
       "      <th>29</th>\n",
       "      <td>0.731818</td>\n",
       "      <td>0.091297</td>\n",
       "      <td>{'n_neighbors': 30}</td>\n",
       "    </tr>\n",
       "  </tbody>\n",
       "</table>\n",
       "</div>"
      ],
      "text/plain": [
       "    mean_test_score  std_test_score               params\n",
       "0          0.700000        0.081821   {'n_neighbors': 1}\n",
       "1          0.637273        0.053168   {'n_neighbors': 2}\n",
       "2          0.762727        0.099097   {'n_neighbors': 3}\n",
       "3          0.725455        0.080155   {'n_neighbors': 4}\n",
       "4          0.781818        0.096688   {'n_neighbors': 5}\n",
       "5          0.760000        0.086564   {'n_neighbors': 6}\n",
       "6          0.772727        0.103055   {'n_neighbors': 7}\n",
       "7          0.760909        0.093935   {'n_neighbors': 8}\n",
       "8          0.775455        0.108862   {'n_neighbors': 9}\n",
       "9          0.761818        0.095381  {'n_neighbors': 10}\n",
       "10         0.770909        0.107981  {'n_neighbors': 11}\n",
       "11         0.766364        0.100636  {'n_neighbors': 12}\n",
       "12         0.766364        0.106496  {'n_neighbors': 13}\n",
       "13         0.759091        0.101163  {'n_neighbors': 14}\n",
       "14         0.763636        0.106556  {'n_neighbors': 15}\n",
       "15         0.757273        0.101468  {'n_neighbors': 16}\n",
       "16         0.755455        0.102190  {'n_neighbors': 17}\n",
       "17         0.750909        0.093774  {'n_neighbors': 18}\n",
       "18         0.749091        0.092958  {'n_neighbors': 19}\n",
       "19         0.748182        0.081508  {'n_neighbors': 20}\n",
       "20         0.746364        0.084413  {'n_neighbors': 21}\n",
       "21         0.744545        0.088097  {'n_neighbors': 22}\n",
       "22         0.745455        0.087779  {'n_neighbors': 23}\n",
       "23         0.745455        0.078469  {'n_neighbors': 24}\n",
       "24         0.738182        0.087695  {'n_neighbors': 25}\n",
       "25         0.736364        0.086802  {'n_neighbors': 26}\n",
       "26         0.729091        0.084165  {'n_neighbors': 27}\n",
       "27         0.734545        0.090375  {'n_neighbors': 28}\n",
       "28         0.730909        0.086828  {'n_neighbors': 29}\n",
       "29         0.731818        0.091297  {'n_neighbors': 30}"
      ]
     },
     "execution_count": 119,
     "metadata": {},
     "output_type": "execute_result"
    }
   ],
   "source": [
    "grid.fit(X_train, y_train)\n",
    "# view the results as a pandas DataFrame\n",
    "#print(grid.cv_results_)  #print all results\n",
    "\n",
    "pd.DataFrame(grid.cv_results_)[['mean_test_score', 'std_test_score', 'params']]"
   ]
  },
  {
   "cell_type": "markdown",
   "metadata": {},
   "source": [
    "### Further Analysis of the results\n",
    "1. *Review the array of mean scores* \n",
    "2. *Plot a graph of k and review best mean accuray*\n",
    "3. *Get the best_score_*\n",
    "4. *Get the best_params_*\n",
    "5. *Get the best_estimator_*"
   ]
  },
  {
   "cell_type": "code",
   "execution_count": 112,
   "metadata": {},
   "outputs": [
    {
     "name": "stdout",
     "output_type": "stream",
     "text": [
      "[ 0.7         0.63727273  0.76272727  0.72545455  0.78181818  0.76\n",
      "  0.77272727  0.76090909  0.77545455  0.76181818  0.77090909  0.76636364\n",
      "  0.76636364  0.75909091  0.76363636  0.75727273  0.75545455  0.75090909\n",
      "  0.74909091  0.74818182  0.74636364  0.74454545  0.74545455  0.74545455\n",
      "  0.73818182  0.73636364  0.72909091  0.73454545  0.73090909  0.73181818]\n",
      "0.781818181818\n",
      "{'n_neighbors': 5}\n",
      "KNeighborsClassifier(algorithm='auto', leaf_size=30, metric='minkowski',\n",
      "           metric_params=None, n_jobs=1, n_neighbors=5, p=2,\n",
      "           weights='uniform')\n"
     ]
    },
    {
     "data": {
      "image/png": "[encoded data removed]",
      "text/plain": [
       "<matplotlib.figure.Figure at 0x15786250>"
      ]
     },
     "metadata": {},
     "output_type": "display_data"
    }
   ],
   "source": [
    "grid_mean_scores = grid.cv_results_['mean_test_score']\n",
    "print(grid_mean_scores)\n",
    "# plot the results\n",
    "plt.plot(k, grid_mean_scores)\n",
    "plt.xlabel('Number of K for KNN')\n",
    "plt.ylabel('Cross-Validated Accuracy')\n",
    "print(grid.best_score_)\n",
    "print(grid.best_params_)\n",
    "print(grid.best_estimator_)"
   ]
  },
  {
   "cell_type": "markdown",
   "metadata": {
    "collapsed": true
   },
   "source": [
    "### The MLP Classifier Hyperparameter Tuning\n",
    "**The MLP Classifier has the default of 1 hidden layer and 100 neurons.**\n",
    "Typically this default setting is in line with research that suggests there are not many models that need more than 2 hidden layers to solve a problem.\n",
    "\n",
    "**itertools** is imported for looping: functions creating iterators for efficient looping. More details here:  __[itertools](https://docs.python.org/3/library/itertools.html)__\n",
    "\n",
    "**neurons = list(range(1, 101))** . This will train with 100, change how many neurons you want to train with here.\n",
    "**neurons,repeat=1**  This is one hidden layer, change this for how many hidden layers you want to train with here.\n",
    "**parameters** add whatever parameters you want ot train here. More details here:  __[MLP Parameters](http://scikit-learn.org/stable/modules/generated/sklearn.neural_network.MLPClassifier.html)__\n",
    "\n",
    "**Note:**  The default solver ‘adam’ works pretty well on relatively large datasets (with thousands of training samples or more) in terms of both training time and validation score. For small datasets, however, ‘lbfgs’ can converge faster and perform better. An additional sgd exists but this did not appear as one on the beter solver for this data set.\n",
    "\n",
    "*Unhash the parameters you wish to test or create your own, if selecting many different paramters these models can take hours to run, dependent on power of system*"
   ]
  },
  {
   "cell_type": "code",
   "execution_count": 114,
   "metadata": {},
   "outputs": [
    {
     "name": "stdout",
     "output_type": "stream",
     "text": [
      "[(1,) (2,) (3,) (4,) (5,) (6,) (7,) (8,) (9,)]\n",
      "[ 0.59        0.55363636  0.46545455  0.62636364  0.5         0.50727273\n",
      "  0.59181818  0.59090909  0.50818182]\n",
      "0.626363636364\n",
      "{'hidden_layer_sizes': (4,)}\n",
      "MLPClassifier(activation='relu', alpha=0.0001, batch_size='auto', beta_1=0.9,\n",
      "       beta_2=0.999, early_stopping=False, epsilon=1e-08,\n",
      "       hidden_layer_sizes=(4,), learning_rate='constant',\n",
      "       learning_rate_init=0.001, max_iter=200, momentum=0.9,\n",
      "       nesterovs_momentum=True, power_t=0.5, random_state=None,\n",
      "       shuffle=True, solver='adam', tol=0.0001, validation_fraction=0.1,\n",
      "       verbose=False, warm_start=False)\n"
     ]
    },
    {
     "data": {
      "image/png": "[encoded data removed]",
      "text/plain": [
       "<matplotlib.figure.Figure at 0x14c1fbf0>"
      ]
     },
     "metadata": {},
     "output_type": "display_data"
    }
   ],
   "source": [
    "import itertools\n",
    "from itertools import product\n",
    "from sklearn.model_selection import GridSearchCV\n",
    "from numpy import array\n",
    "neurons = list(range(1, 10))\n",
    "parameters = {'hidden_layer_sizes': [x for x in itertools.product(neurons,repeat=1)]} \n",
    "##parameters = {'hidden_layer_sizes': [x for x in itertools.product(hidlay,repeat=2)],'solver': ['lbfgs','adam']} \n",
    "#parameters = {'hidden_layer_sizes': [x for x in itertools.product(hidlay,repeat=2)]}\n",
    "##parameters = {'hidden_layer_sizes': [x for x in itertools.product(hidlay,repeat=2)]} ##change repeat for hidden layers\n",
    "##parameters = {'hidden_layer_sizes': [x for x in itertools.product(hidlay,repeat=1)],'solver': ['lbfgs','adam','sgd']} review different solvers\n",
    "\n",
    "grid = GridSearchCV(estimator=MLPClassifier(), \n",
    "                    param_grid=parameters,\n",
    "                    cv=kfold,\n",
    "                    scoring='accuracy', return_train_score=False,n_jobs=-1)\n",
    "\n",
    "\n",
    "grid.fit(X_train, y_train)\n",
    "\n",
    "# view the results as a pandas DataFrame\n",
    "import pandas as pd\n",
    "pd.DataFrame(grid.cv_results_)[['mean_test_score', 'std_test_score', 'params']]\n",
    "# print the array of mean scores only\n",
    "\n",
    "grid_mean_scores = grid.cv_results_['mean_test_score']\n",
    "HL_range = grid.cv_results_['param_hidden_layer_sizes']\n",
    "hl_range = array(HL_range)\n",
    "print(hl_range)\n",
    "print(grid_mean_scores)\n",
    "\n",
    "li =[]\n",
    "for i in range(len(grid_mean_scores)):\n",
    "    li.append(i)\n",
    "\n",
    "    \n",
    "#print(grid.cv_results_)\n",
    "\n",
    "plt.plot(li, grid_mean_scores)\n",
    "plt.xlabel('No. of MLP Grid Run')\n",
    "plt.ylabel('Cross-Validated Accuracy')\n",
    "print(grid.best_score_)\n",
    "print(grid.best_params_)\n",
    "print(grid.best_estimator_)"
   ]
  },
  {
   "cell_type": "markdown",
   "metadata": {
    "collapsed": true
   },
   "source": [
    "###  Comparing Machine Learning Models\n",
    "The next section will use a BoxPlot to compare accuracy scores using the tuned paramters for the machine learning models.\n",
    "\n",
    "**cv=kfold**  This is using the kfold=StratifiedKFold(n_splits=10), This will sort all the data and divide this into 10 k folds, the folds are made by ensuring the percentage of samples for each class are evenly distributed.  "
   ]
  },
  {
   "cell_type": "code",
   "execution_count": 122,
   "metadata": {},
   "outputs": [
    {
     "name": "stdout",
     "output_type": "stream",
     "text": [
      "KNN: Mean: 0.782428  Std:(0.096845)\n",
      "NB: Mean: 0.982793  Std:(0.013082)\n",
      "ANN: Mean: 0.682737  Std:(0.039257)\n"
     ]
    },
    {
     "data": {
      "image/png": "[encoded data removed]",
      "text/plain": [
       "<matplotlib.figure.Figure at 0x13ea9d50>"
      ]
     },
     "metadata": {},
     "output_type": "display_data"
    }
   ],
   "source": [
    "clfs = []\n",
    "clfs.append(('KNN', KNeighborsClassifier(n_neighbors=5)))\n",
    "clfs.append(('NB', GaussianNB()))\n",
    "clfs.append(('ANN', MLPClassifier(hidden_layer_sizes=(84,16), solver='lbfgs')))## change these parameters if required for the best values\n",
    "kfold =StratifiedKFold(n_splits=10)\n",
    "results = []\n",
    "names = []\n",
    "scoring = 'accuracy'\n",
    "for name, clf in clfs:\n",
    "    scores = cross_val_score(clf, X_train, y_train, cv=kfold, scoring=scoring)\n",
    "    results.append(scores)\n",
    "    names.append(name)\n",
    "    msg = \"%s: Mean: %f  Std:(%f)\" % (name, scores.mean(), scores.std())\n",
    "    print(msg)\n",
    "\n",
    "\n",
    "fig = plt.figure()\n",
    "fig.suptitle('Model Algorithm Comparison')\n",
    "ax = fig.add_subplot(111)\n",
    "plt.boxplot(results)\n",
    "ax.set_xticklabels(names)\n",
    "plt.show()\n",
    "\n"
   ]
  },
  {
   "cell_type": "markdown",
   "metadata": {},
   "source": [
    "## Congratulations this is Section 2 Complete!"
   ]
  }
 ],
 "metadata": {
  "kernelspec": {
   "display_name": "Python 3",
   "language": "python",
   "name": "python3"
  },
  "language_info": {
   "codemirror_mode": {
    "name": "ipython",
    "version": 3
   },
   "file_extension": ".py",
   "mimetype": "text/x-python",
   "name": "python",
   "nbconvert_exporter": "python",
   "pygments_lexer": "ipython3",
   "version": "3.7.0"
  }
 },
 "nbformat": 4,
 "nbformat_minor": 2
}
